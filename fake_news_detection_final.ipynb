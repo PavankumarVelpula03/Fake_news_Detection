{
 "cells": [
  {
   "cell_type": "code",
   "execution_count": 1,
   "id": "29d73bdc",
   "metadata": {},
   "outputs": [
    {
     "name": "stdout",
     "output_type": "stream",
     "text": [
      "Models and vectorizer saved successfully!\n"
     ]
    }
   ],
   "source": [
    "import pandas as pd\n",
    "import joblib\n",
    "import string\n",
    "import re\n",
    "from sklearn.model_selection import train_test_split\n",
    "from sklearn.feature_extraction.text import TfidfVectorizer\n",
    "from sklearn.linear_model import LogisticRegression\n",
    "from sklearn.tree import DecisionTreeClassifier\n",
    "from sklearn.ensemble import GradientBoostingClassifier, RandomForestClassifier\n",
    "\n",
    "# Load dataset\n",
    "data_fake = pd.read_csv('Fake.csv')\n",
    "data_true = pd.read_csv('True.csv')\n",
    "\n",
    "# Labeling data\n",
    "data_fake['label'] = 0  # Fake news\n",
    "data_true['label'] = 1  # Real news\n",
    "\n",
    "# Combine datasets\n",
    "data = pd.concat([data_fake, data_true], axis=0)\n",
    "data = data.sample(frac=1).reset_index(drop=True)  # Shuffle data\n",
    "\n",
    "# Preprocessing function\n",
    "def clean_text(text):\n",
    "    text = text.lower()\n",
    "    text = re.sub(r'\\W', ' ', text)\n",
    "    text = re.sub(r'\\s+', ' ', text).strip()\n",
    "    return text\n",
    "\n",
    "data['text'] = data['text'].apply(clean_text)\n",
    "\n",
    "# Splitting dataset\n",
    "x = data['text']\n",
    "y = data['label']\n",
    "x_train, x_test, y_train, y_test = train_test_split(x, y, test_size=0.25, random_state=42)\n",
    "\n",
    "# Text vectorization (TF-IDF)\n",
    "vectorization = TfidfVectorizer()\n",
    "xv_train = vectorization.fit_transform(x_train)\n",
    "xv_test = vectorization.transform(x_test)\n",
    "\n",
    "# Train models\n",
    "LR = LogisticRegression()\n",
    "LR.fit(xv_train, y_train)\n",
    "\n",
    "DT = DecisionTreeClassifier()\n",
    "DT.fit(xv_train, y_train)\n",
    "\n",
    "GB = GradientBoostingClassifier(random_state=0)\n",
    "GB.fit(xv_train, y_train)\n",
    "\n",
    "RF = RandomForestClassifier(random_state=0)\n",
    "RF.fit(xv_train, y_train)\n",
    "\n",
    "# Save models and vectorizer\n",
    "joblib.dump(LR, \"logistic_regression.pkl\")\n",
    "joblib.dump(DT, \"decision_tree.pkl\")\n",
    "joblib.dump(GB, \"gradient_boosting.pkl\")\n",
    "joblib.dump(RF, \"random_forest.pkl\")\n",
    "joblib.dump(vectorization, \"tfidf_vectorizer.pkl\")\n",
    "\n",
    "print(\"Models and vectorizer saved successfully!\")"
   ]
  }
 ],
 "metadata": {
  "kernelspec": {
   "display_name": "Python 3 (ipykernel)",
   "language": "python",
   "name": "python3"
  },
  "language_info": {
   "codemirror_mode": {
    "name": "ipython",
    "version": 3
   },
   "file_extension": ".py",
   "mimetype": "text/x-python",
   "name": "python",
   "nbconvert_exporter": "python",
   "pygments_lexer": "ipython3",
   "version": "3.12.7"
  }
 },
 "nbformat": 4,
 "nbformat_minor": 5
}
